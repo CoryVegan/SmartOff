{
 "cells": [
  {
   "cell_type": "code",
   "execution_count": 1,
   "metadata": {
    "_cell_guid": "27bb5834-4a60-48a6-bd4a-0641d7f152b3",
    "_uuid": "edd0a8655e7d149b863765959818696498aeab66",
    "nbpresent": {
     "id": "6ac68d1d-6e1b-4949-a935-f610cb9fef7c"
    }
   },
   "outputs": [
    {
     "name": "stderr",
     "output_type": "stream",
     "text": [
      "/home/bhushan/anaconda3/envs/SmartOff/lib/python3.6/site-packages/sklearn/cross_validation.py:41: DeprecationWarning: This module was deprecated in version 0.18 in favor of the model_selection module into which all the refactored classes and functions are moved. Also note that the interface of the new CV iterators are different from that of this module. This module will be removed in 0.20.\n",
      "  \"This module will be removed in 0.20.\", DeprecationWarning)\n",
      "Using TensorFlow backend.\n"
     ]
    }
   ],
   "source": [
    "from math import sqrt\n",
    "from sklearn.cross_validation import train_test_split\n",
    "from numpy import concatenate\n",
    "from pandas import read_csv\n",
    "from pandas import DataFrame\n",
    "from pandas import concat\n",
    "from pandas import to_datetime\n",
    "from sklearn.preprocessing import MinMaxScaler, MaxAbsScaler\n",
    "from sklearn.preprocessing import LabelEncoder\n",
    "from sklearn.metrics import mean_squared_error\n",
    "from keras.models import Sequential\n",
    "from keras.layers import LSTM\n",
    "from keras.layers import Dense\n",
    "from keras.models import load_model\n",
    "from matplotlib import pyplot"
   ]
  },
  {
   "cell_type": "code",
   "execution_count": 2,
   "metadata": {},
   "outputs": [],
   "source": [
    "# Start of helper functions"
   ]
  },
  {
   "cell_type": "code",
   "execution_count": 27,
   "metadata": {},
   "outputs": [],
   "source": [
    "# Converting time series data to Supervised\n",
    "\n",
    "def convertTimeSeriesToLSTM(inputData):\n",
    "    DF = DataFrame(inputData)\n",
    "    prepData = list()\n",
    "    prepData.append(DF.shift(1))\n",
    "    prepData.append(DF.shift(-1))\n",
    "    lstmData = concat(prepData, axis= 1)\n",
    "    # print(lstmData[:10])\n",
    "    lstmData.dropna(inplace=True)\n",
    "    # print(lstmData[:10])\n",
    "    return lstmData"
   ]
  },
  {
   "cell_type": "code",
   "execution_count": 245,
   "metadata": {},
   "outputs": [],
   "source": [
    "# End of helper functions"
   ]
  },
  {
   "cell_type": "code",
   "execution_count": 248,
   "metadata": {
    "_cell_guid": "1f0a2589-8e10-4f59-a8df-facd0317891f",
    "_uuid": "f148682624e87d2161774755f7a31c940aa20510",
    "nbpresent": {
     "id": "f202ec1b-7ff4-41e5-b052-4eb9b7fd1a32"
    }
   },
   "outputs": [],
   "source": [
    "#datasetFull = read_csv('./data/house5/channel_5TV.dat_OnOFF_FULL.csv', sep=',') #names=['Index','Timestamp','Usage','Date','Year','Month','Day','Hour','Minute','Second'])\n",
    "#datasetFull = datasetFull[:10000] #\n",
    "#ndataset = datasetFull.drop(['Index', 'Timestamp', 'Date', 'Year'], axis = 1)\n",
    "#dataset = ndataset[['Month', 'Day', 'Hour', 'Minute', 'Second', 'Usage']]\n",
    "#values = dataset.values"
   ]
  },
  {
   "cell_type": "code",
   "execution_count": 30,
   "metadata": {},
   "outputs": [],
   "source": [
    "file_read = read_csv('./data/house1/channel_13.dat', sep=' ', names=['Timestamp', 'Usage']) #names=['Index','Timestamp','Usage','Date','Year','Month','Day','Hour','Minute','Second'])\n",
    "file_read['Timestamp'] = to_datetime(file_read['Timestamp'],unit='s')\n",
    "file_read['Date'] = file_read['Timestamp'].dt.date\n",
    "file_read['Year'] = file_read['Timestamp'].dt.year\n",
    "file_read['Month'] = file_read['Timestamp'].dt.month\n",
    "file_read['Day'] = file_read['Timestamp'].dt.day\n",
    "file_read['Hour'] = file_read['Timestamp'].dt.hour\n",
    "file_read['Minute'] = file_read['Timestamp'].dt.minute\n",
    "file_read['Second'] = file_read['Timestamp'].dt.second\n",
    "\n",
    "datasetFull = file_read\n",
    "ndataset = datasetFull.drop(['Timestamp', 'Date', 'Year'], axis = 1)\n",
    "dataset = ndataset[['Month', 'Day', 'Hour', 'Minute', 'Second', 'Usage']]\n"
   ]
  },
  {
   "cell_type": "code",
   "execution_count": 31,
   "metadata": {},
   "outputs": [
    {
     "data": {
      "image/png": "[encoded data removed]",
      "text/plain": [
       "<matplotlib.figure.Figure at 0x7f3254c9ac18>"
      ]
     },
     "metadata": {},
     "output_type": "display_data"
    }
   ],
   "source": [
    "# graph for Usage\n",
    "pyplot.plot(dataset['Usage'], label='Usage')\n",
    "pyplot.legend()\n",
    "pyplot.show()"
   ]
  },
  {
   "cell_type": "code",
   "execution_count": 70,
   "metadata": {},
   "outputs": [
    {
     "data": {
      "image/png": "[encoded data removed]",
      "text/plain": [
       "<matplotlib.figure.Figure at 0x7f31cd571240>"
      ]
     },
     "metadata": {},
     "output_type": "display_data"
    }
   ],
   "source": [
    "pyplot.plot(file_read['Month'].value_counts(sort=False), label='Months Frequency')\n",
    "pyplot.legend()\n",
    "pyplot.show()"
   ]
  },
  {
   "cell_type": "code",
   "execution_count": 74,
   "metadata": {},
   "outputs": [],
   "source": [
    "#file_read['Usage'].value_counts()"
   ]
  },
  {
   "cell_type": "code",
   "execution_count": 76,
   "metadata": {},
   "outputs": [],
   "source": [
    "#print(dataset[:5])\n",
    "#scaler = MaxAbsScaler()\n",
    "#scaled = scaler.fit_transform(dataset[:5])\n",
    "#print(scaled)\n",
    "#print(max(dataset['Month']), min(dataset['Month']), max(dataset['Usage']), min(dataset['Usage']))\n",
    "maxUsage = max(dataset['Usage'])"
   ]
  },
  {
   "cell_type": "code",
   "execution_count": 34,
   "metadata": {
    "_cell_guid": "ebe3473e-b636-404b-8460-c8b021eedaad",
    "_uuid": "936ff92e176ca4b8c449e819abce566e13b94249",
    "nbpresent": {
     "id": "9ed851e1-ef8e-498e-854d-c9f9cd3aa23e"
    }
   },
   "outputs": [],
   "source": [
    "# Normalizing features\n",
    "from numpy import transpose\n",
    "def normalizeTable(data, maxUsage = -1):\n",
    "    data[0] = data[0] / 12  # Change to 12\n",
    "    data[1] = data[1] / 31\n",
    "    data[2] = data[2] / 24\n",
    "    data[3] = data[3] / 60\n",
    "    data[4] = data[4] / 60\n",
    "    if maxUsage != -1:\n",
    "        data[5] = data[5] / maxUsage\n",
    "    return data\n",
    "\n",
    "def normalizeData(values, maxUsage=-1):\n",
    "    transposed = transpose(values)\n",
    "    scaledT = normalizeTable(transposed, maxUsage)\n",
    "    scaled = transpose(scaledT)\n",
    "    return scaled\n",
    "\n",
    "values = dataset.astype(float).values\n",
    "maxUsage = max(dataset['Usage'])\n",
    "scaled = normalizeData(values, maxUsage)\n"
   ]
  },
  {
   "cell_type": "code",
   "execution_count": 35,
   "metadata": {},
   "outputs": [],
   "source": [
    "# Convert data to the format appropriate for LSTM \n",
    "lstmData = convertTimeSeriesToLSTM(scaled)"
   ]
  },
  {
   "cell_type": "code",
   "execution_count": 36,
   "metadata": {},
   "outputs": [
    {
     "name": "stdout",
     "output_type": "stream",
     "text": [
      "(9018804, 12)\n"
     ]
    }
   ],
   "source": [
    "values = lstmData.values\n",
    "print(values.shape)\n"
   ]
  },
  {
   "cell_type": "code",
   "execution_count": 9,
   "metadata": {},
   "outputs": [],
   "source": [
    "#print(values)"
   ]
  },
  {
   "cell_type": "code",
   "execution_count": 37,
   "metadata": {
    "_cell_guid": "6c78ecd5-4f05-4c8f-b298-f4f1ad6886c6",
    "_uuid": "c4a7d5d6020aef9873daf202d18681cc0d4d1271",
    "nbpresent": {
     "id": "46f73fde-969e-4e34-a054-ee37794143bb"
    }
   },
   "outputs": [],
   "source": [
    "# Separate input and output data\n",
    "values = lstmData.values\n",
    "X = values[:,:5]\n",
    "Y = values[:,5]\n",
    "\n",
    "#print(Y)\n",
    "# Splitting data into train, validation adn test set\n",
    "X_Train, X_Temp, Y_Train, Y_Temp = train_test_split(X, Y, test_size=0.4)\n",
    "X_Valid, X_Test, Y_Valid, Y_Test = train_test_split(X_Temp, Y_Temp, test_size =0.2)\n",
    "\n",
    "# Reshape input to be 3D for LSTM input[samples, timesteps, features]\n",
    "X_Train = X_Train.reshape((X_Train.shape[0], 1, X_Train.shape[1]))\n",
    "X_Valid = X_Valid.reshape((X_Valid.shape[0], 1, X_Valid.shape[1]))\n",
    "X_Test = X_Test.reshape((X_Test.shape[0], 1, X_Test.shape[1]))"
   ]
  },
  {
   "cell_type": "code",
   "execution_count": 11,
   "metadata": {},
   "outputs": [],
   "source": [
    "#print (X_Train)\n",
    "#print(Y_Train)"
   ]
  },
  {
   "cell_type": "code",
   "execution_count": 39,
   "metadata": {
    "_cell_guid": "9bd7d4b2-d769-47bb-8622-d0b8af455dff",
    "_kg_hide-output": false,
    "_uuid": "59ce30c6af34f0216d427ffc5fa0b7131a84dfeb",
    "nbpresent": {
     "id": "fd7fb19c-5d44-45a5-b37f-a2788ec51483"
    }
   },
   "outputs": [
    {
     "name": "stdout",
     "output_type": "stream",
     "text": [
      "Train on 5411282 samples, validate on 2886017 samples\n",
      "Epoch 1/2\n",
      "1472s - loss: 0.0011 - val_loss: 0.0012\n",
      "Epoch 2/2\n",
      "1574s - loss: 0.0011 - val_loss: 0.0012\n"
     ]
    }
   ],
   "source": [
    "# network architecture\n",
    "model = Sequential()\n",
    "model.add(LSTM(50, input_shape=(X_Train.shape[1], X_Train.shape[2])))\n",
    "model.add(Dense(1))\n",
    "model.compile(loss='mse', optimizer='adam')\n",
    "\n",
    "# fit\n",
    "history = model.fit(X_Train, Y_Train, epochs=2, batch_size=10, validation_data=(X_Valid, Y_Valid), verbose=2, shuffle=False)"
   ]
  },
  {
   "cell_type": "code",
   "execution_count": 40,
   "metadata": {
    "_cell_guid": "d14552c1-a326-4b3a-b471-0e9489e43d14",
    "_uuid": "90ae05f5fabd91c649e567f9d01c9ec453737a35",
    "nbpresent": {
     "id": "887bf3d2-4510-45b5-a3ad-6f357a473cc6"
    }
   },
   "outputs": [
    {
     "data": {
      "image/png": "[encoded data removed]",
      "text/plain": [
       "<matplotlib.figure.Figure at 0x7f322036e9b0>"
      ]
     },
     "metadata": {},
     "output_type": "display_data"
    }
   ],
   "source": [
    "# plot history\n",
    "\n",
    "pyplot.plot(history.history['loss'], label='Train')\n",
    "pyplot.plot(history.history['val_loss'], label='Test')\n",
    "pyplot.legend()\n",
    "pyplot.show()"
   ]
  },
  {
   "cell_type": "code",
   "execution_count": 41,
   "metadata": {
    "nbpresent": {
     "id": "9b4e66f1-dc94-419f-9266-5c79b9d642c9"
    }
   },
   "outputs": [
    {
     "name": "stdout",
     "output_type": "stream",
     "text": [
      "(721505,) (721505,)\n"
     ]
    }
   ],
   "source": [
    "print(Y_Test.shape, Y_Test.shape)"
   ]
  },
  {
   "cell_type": "code",
   "execution_count": 42,
   "metadata": {
    "nbpresent": {
     "id": "920cacd0-22cc-4ca4-b1cf-c825dddb8711"
    }
   },
   "outputs": [],
   "source": [
    "# Predict for Test data\n",
    "prediction = model.predict(X_Test)\n",
    "Y_Test = Y_Test.reshape(Y_Test.shape[0],-1)"
   ]
  },
  {
   "cell_type": "code",
   "execution_count": 43,
   "metadata": {
    "nbpresent": {
     "id": "a4795562-d76d-48bc-8e4d-519d41c8c502"
    }
   },
   "outputs": [],
   "source": [
    "Diff = Y_Test - prediction"
   ]
  },
  {
   "cell_type": "code",
   "execution_count": 44,
   "metadata": {
    "nbpresent": {
     "id": "c08cccb1-64a8-4e4a-a19b-f762d5b3ee15"
    }
   },
   "outputs": [
    {
     "data": {
      "image/png": "[encoded data removed]",
      "text/plain": [
       "<matplotlib.figure.Figure at 0x7f3194e99ef0>"
      ]
     },
     "metadata": {},
     "output_type": "display_data"
    }
   ],
   "source": [
    "pyplot.plot(Y_Test, label='Actual')\n",
    "pyplot.plot(prediction, label='Predicted')\n",
    "pyplot.legend()\n",
    "pyplot.show()"
   ]
  },
  {
   "cell_type": "code",
   "execution_count": 45,
   "metadata": {
    "nbpresent": {
     "id": "c16f9818-35de-49c4-8eb3-de0bcc9604ae"
    }
   },
   "outputs": [
    {
     "data": {
      "image/png": "[encoded data removed]",
      "text/plain": [
       "<matplotlib.figure.Figure at 0x7f3254d876d8>"
      ]
     },
     "metadata": {},
     "output_type": "display_data"
    }
   ],
   "source": [
    "pyplot.plot(Diff, label='Diff')\n",
    "pyplot.legend()\n",
    "pyplot.show()"
   ]
  },
  {
   "cell_type": "code",
   "execution_count": 46,
   "metadata": {
    "nbpresent": {
     "id": "718c5d4d-b743-4049-86bd-d5724e0fa8ae"
    }
   },
   "outputs": [
    {
     "name": "stdout",
     "output_type": "stream",
     "text": [
      "0.00115746661476\n"
     ]
    }
   ],
   "source": [
    "print(mean_squared_error(Y_Test, prediction))"
   ]
  },
  {
   "cell_type": "code",
   "execution_count": 20,
   "metadata": {
    "nbpresent": {
     "id": "908e4d79-ebea-4bea-a745-0176958b9df2"
    }
   },
   "outputs": [],
   "source": [
    "#from numpy import concatenate\n",
    "#print(prediction.shape, Y_Test.shape)\n",
    "#compareAns = concatenate((prediction, Y_Test), axis=0)\n",
    "#print(prediction[:10])\n",
    "#print(Y_Test[:10])"
   ]
  },
  {
   "cell_type": "code",
   "execution_count": 47,
   "metadata": {
    "nbpresent": {
     "id": "e15e7f59-c6f7-495c-aa5d-95a97c29b0bb"
    }
   },
   "outputs": [],
   "source": [
    "# Save model on system\n",
    "model.save('savedModels/full_Microwave.h5')"
   ]
  },
  {
   "cell_type": "code",
   "execution_count": 189,
   "metadata": {},
   "outputs": [],
   "source": [
    "#model = load_model('full_data_h5_c5.h5')"
   ]
  },
  {
   "cell_type": "code",
   "execution_count": 48,
   "metadata": {},
   "outputs": [],
   "source": []
  },
  {
   "cell_type": "code",
   "execution_count": 49,
   "metadata": {},
   "outputs": [],
   "source": [
    "# standBy = dataset['Usage'].value_counts()\n",
    "# print(standBy)"
   ]
  },
  {
   "cell_type": "code",
   "execution_count": 63,
   "metadata": {},
   "outputs": [
    {
     "name": "stdout",
     "output_type": "stream",
     "text": [
      "2017-12-07 14:00:00\n"
     ]
    },
    {
     "data": {
      "image/png": "[encoded data removed]",
      "text/plain": [
       "<matplotlib.figure.Figure at 0x7f31cd4bc7f0>"
      ]
     },
     "metadata": {},
     "output_type": "display_data"
    }
   ],
   "source": [
    "usage = smartOff.predictOnNext3Hours(model, \"1512673200\", maxUsage)\n",
    "pyplot.plot(usage, label = \"7th Dec 2017 2 PM to 5 PM\")\n",
    "pyplot.legend()\n",
    "pyplot.show()"
   ]
  },
  {
   "cell_type": "code",
   "execution_count": 60,
   "metadata": {},
   "outputs": [
    {
     "name": "stdout",
     "output_type": "stream",
     "text": [
      "2017-12-07 07:30:00\n"
     ]
    },
    {
     "data": {
      "image/png": "[encoded data removed]",
      "text/plain": [
       "<matplotlib.figure.Figure at 0x7f321f1a1588>"
      ]
     },
     "metadata": {},
     "output_type": "display_data"
    }
   ],
   "source": [
    "usage = smartOff.predictOnNext3Hours(model, \"1512649800\", maxUsage)\n",
    "pyplot.plot(usage, label = \"6th July 2017 4 PM to 7 PM\")\n",
    "pyplot.legend()\n",
    "pyplot.show()"
   ]
  },
  {
   "cell_type": "code",
   "execution_count": 57,
   "metadata": {},
   "outputs": [
    {
     "name": "stdout",
     "output_type": "stream",
     "text": [
      "2018-01-10 05:00:00\n"
     ]
    },
    {
     "data": {
      "image/png": "[encoded data removed]",
      "text/plain": [
       "<matplotlib.figure.Figure at 0x7f321f2a77b8>"
      ]
     },
     "metadata": {},
     "output_type": "display_data"
    }
   ],
   "source": [
    "usage = smartOff.predictOnNext3Hours(model, \"1515578400\", maxUsage)\n",
    "pyplot.plot(usage, label = \"10th Jan 2018 5 AM to 8 AM\")\n",
    "pyplot.legend()\n",
    "pyplot.show()"
   ]
  },
  {
   "cell_type": "code",
   "execution_count": 505,
   "metadata": {},
   "outputs": [
    {
     "name": "stdout",
     "output_type": "stream",
     "text": [
      "2017-07-06 19:00:00\n",
      "27.4528\n",
      "True\n"
     ]
    }
   ],
   "source": [
    "print(smartOff.predictForSingleTime(\"1499382000\"))"
   ]
  },
  {
   "cell_type": "code",
   "execution_count": 72,
   "metadata": {},
   "outputs": [
    {
     "data": {
      "text/plain": [
       "1"
      ]
     },
     "execution_count": 72,
     "metadata": {},
     "output_type": "execute_result"
    }
   ],
   "source": [
    "from tinydb import TinyDB, Query\n",
    "db = TinyDB('./metadata.json')\n",
    "db.insert({'appliance': 'microwave', 'maxUsage': max(dataset['Usage']) , 'threshold': 2})\n"
   ]
  },
  {
   "cell_type": "code",
   "execution_count": null,
   "metadata": {},
   "outputs": [],
   "source": []
  }
 ],
 "metadata": {
  "kernelspec": {
   "display_name": "Python [default]",
   "language": "python",
   "name": "python3"
  },
  "language_info": {
   "codemirror_mode": {
    "name": "ipython",
    "version": 3
   },
   "file_extension": ".py",
   "mimetype": "text/x-python",
   "name": "python",
   "nbconvert_exporter": "python",
   "pygments_lexer": "ipython3",
   "version": "3.6.3"
  }
 },
 "nbformat": 4,
 "nbformat_minor": 1
}
