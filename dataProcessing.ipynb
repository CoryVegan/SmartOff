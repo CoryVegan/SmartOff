{
 "cells": [
  {
   "cell_type": "code",
   "execution_count": 13,
   "metadata": {
    "collapsed": true
   },
   "outputs": [],
   "source": [
    "import numpy as np\n",
    "import pandas as pd\n",
    "import matplotlib.pyplot as plt\n",
    "from sklearn import linear_model\n",
    "from sklearn.metrics import mean_squared_error, r2_score"
   ]
  },
  {
   "cell_type": "code",
   "execution_count": 14,
   "metadata": {
    "collapsed": true
   },
   "outputs": [],
   "source": [
    "file_read = pd.read_csv('./data/channel_10.dat', sep='\\t', names = ['Timestamp']) \n",
    "#file_read = pd.DataFrame(file_read)\n",
    "#file_read = pd.DataFrame(file_read.row.str.split(' ',1).tolist(), columns = [\"Timestamp\",\"Usage\"])\n",
    "file_read['Timestamp'], file_read['Usage'] = zip(*file_read['Timestamp'].map(lambda x: x.split(' ')))"
   ]
  },
  {
   "cell_type": "code",
   "execution_count": 15,
   "metadata": {},
   "outputs": [
    {
     "name": "stdout",
     "output_type": "stream",
     "text": [
      "1253484   1253484\n",
      "417828   417828\n"
     ]
    }
   ],
   "source": [
    "train, validate, test = np.split(file_read.sample(frac=1), [int(.6*len(file_read)), int(.8*len(file_read))])\n",
    "print(train['Timestamp'].size, ' ' , train['Usage'].size)\n",
    "print(test['Timestamp'].size, ' ' , test['Usage'].size)\n",
    "#print(train['Timestamp'], train['Usage'])"
   ]
  },
  {
   "cell_type": "code",
   "execution_count": 16,
   "metadata": {
    "collapsed": true
   },
   "outputs": [],
   "source": [
    "#plt.plot(train)\n",
    "#plt.ylabel('some numbers')\n",
    "#plt.show()"
   ]
  },
  {
   "cell_type": "code",
   "execution_count": 17,
   "metadata": {
    "collapsed": true
   },
   "outputs": [],
   "source": [
    "train_x, train_y = np.hsplit(train, 2)\n",
    "test_x, test_y = np.hsplit(test, 2)\n",
    "#print(train_x)\n",
    "#print(train_y)"
   ]
  },
  {
   "cell_type": "code",
   "execution_count": 18,
   "metadata": {},
   "outputs": [
    {
     "data": {
      "text/plain": [
       "LinearRegression(copy_X=True, fit_intercept=True, n_jobs=1, normalize=False)"
      ]
     },
     "execution_count": 18,
     "metadata": {},
     "output_type": "execute_result"
    }
   ],
   "source": [
    "reg = linear_model.LinearRegression()\n",
    "reg.fit (train_x, train_y)"
   ]
  },
  {
   "cell_type": "code",
   "execution_count": 20,
   "metadata": {},
   "outputs": [
    {
     "name": "stdout",
     "output_type": "stream",
     "text": [
      "Coefficients: \n",
      " [[ -9.08015759e-08]]\n",
      "Mean squared error: 581.36\n",
      "Variance score: 0.00\n"
     ]
    }
   ],
   "source": [
    "test_predict = reg.predict(test_x)\n",
    "print('Coefficients: \\n', reg.coef_)\n",
    "print(\"Mean squared error: %.2f\" % mean_squared_error(test_y, test_predict))\n",
    "print('Variance score: %.2f' % r2_score(test_y, test_predict))\n",
    "#print(test_y, test_predict)"
   ]
  },
  {
   "cell_type": "code",
   "execution_count": null,
   "metadata": {
    "collapsed": true
   },
   "outputs": [],
   "source": [
    "# Plot outputs\n",
    "plt.scatter(test_x, test_y,  color='black')\n",
    "plt.plot(test_x, test_predict, color='blue', linewidth=3)\n",
    "\n",
    "plt.xticks(())\n",
    "plt.yticks(())\n",
    "plt.show()"
   ]
  },
  {
   "cell_type": "code",
   "execution_count": null,
   "metadata": {
    "collapsed": true
   },
   "outputs": [],
   "source": []
  }
 ],
 "metadata": {
  "kernelspec": {
   "display_name": "Python 3",
   "language": "python",
   "name": "python3"
  },
  "language_info": {
   "codemirror_mode": {
    "name": "ipython",
    "version": 3
   },
   "file_extension": ".py",
   "mimetype": "text/x-python",
   "name": "python",
   "nbconvert_exporter": "python",
   "pygments_lexer": "ipython3",
   "version": "3.6.3"
  }
 },
 "nbformat": 4,
 "nbformat_minor": 1
}
