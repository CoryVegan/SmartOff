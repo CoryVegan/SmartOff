{
 "cells": [
  {
   "cell_type": "markdown",
   "metadata": {
    "_cell_guid": "a679d21f-6ea3-49ea-a2b0-2a39284ef5f8",
    "_uuid": "2dd498a9a3aa44d02fddfa4d1a9f01671f42baf4",
    "collapsed": true
   },
   "source": [
    "Experimental dataset to create regression models of appliances energy use in a low energy building. LSTM RNN to predict usage.\n",
    "\t"
   ]
  },
  {
   "cell_type": "code",
   "execution_count": 1,
   "metadata": {
    "_cell_guid": "27bb5834-4a60-48a6-bd4a-0641d7f152b3",
    "_uuid": "edd0a8655e7d149b863765959818696498aeab66"
   },
   "outputs": [
    {
     "name": "stderr",
     "output_type": "stream",
     "text": [
      "/home/bhushan/anaconda3/envs/SmartOff/lib/python3.6/site-packages/sklearn/cross_validation.py:41: DeprecationWarning: This module was deprecated in version 0.18 in favor of the model_selection module into which all the refactored classes and functions are moved. Also note that the interface of the new CV iterators are different from that of this module. This module will be removed in 0.20.\n",
      "  \"This module will be removed in 0.20.\", DeprecationWarning)\n",
      "Using TensorFlow backend.\n"
     ]
    }
   ],
   "source": [
    "from math import sqrt\n",
    "from sklearn.cross_validation import train_test_split\n",
    "from numpy import concatenate\n",
    "from pandas import read_csv\n",
    "from pandas import DataFrame\n",
    "from pandas import concat\n",
    "from pandas import to_datetime\n",
    "from sklearn.preprocessing import MinMaxScaler\n",
    "from sklearn.preprocessing import LabelEncoder\n",
    "from sklearn.metrics import mean_squared_error\n",
    "from keras.models import Sequential\n",
    "from keras.layers import LSTM\n",
    "from keras.layers import Dense\n",
    "from matplotlib import pyplot\n"
   ]
  },
  {
   "cell_type": "code",
   "execution_count": 2,
   "metadata": {
    "_cell_guid": "cc9b95ed-8241-4056-9472-31024b61bffe",
    "_uuid": "20c711a6b277771f69dc32be4eae6f86ed4519db"
   },
   "outputs": [],
   "source": [
    "# convert series to supervised learning\n",
    "def series_to_supevised(dataset, n_in=1, n_out=1, dropnan=True):\n",
    "    num_vars = 1 if type(dataset) is list else dataset.shape[1]\n",
    "    dataframe = DataFrame(dataset)\n",
    "    cols, names = list(), list()\n",
    "    \n",
    "    # input sequence (t-n, ....t-1)\n",
    "    for i in range(n_in, 0, -1):\n",
    "        cols.append(dataframe.shift(i))\n",
    "        names += [('var%d(t-%d)' % (j+1, i)) for j in range(num_vars)]\n",
    "    # forecast sequence (t, t+1 .... t+n)\n",
    "    for i in range(0, n_out):\n",
    "        cols.append(dataframe.shift(-i))\n",
    "        if i == 0:\n",
    "            names += [('var%d(t)' % (j+1)) for j in range(num_vars)]\n",
    "        else:\n",
    "            names += [('var%d(t+%d)' % (j+1, i)) for j in range(num_vars)]\n",
    "    \n",
    "    # put it all together \n",
    "    agg = concat(cols, axis=1)\n",
    "    agg.columns = names\n",
    "    \n",
    "    # drop rows with NaN values\n",
    "    if dropnan:\n",
    "        agg.dropna(inplace=True)\n",
    "    return agg\n"
   ]
  },
  {
   "cell_type": "code",
   "execution_count": 23,
   "metadata": {
    "_cell_guid": "1f0a2589-8e10-4f59-a8df-facd0317891f",
    "_uuid": "f148682624e87d2161774755f7a31c940aa20510"
   },
   "outputs": [
    {
     "name": "stdout",
     "output_type": "stream",
     "text": [
      "<class 'numpy.int64'> <class 'numpy.int64'>\n",
      "10000\n",
      "[[1404059032         69]\n",
      " [1404059038         69]\n",
      " [1404059044         69]\n",
      " [1404059050         69]\n",
      " [1404059056         69]\n",
      " [1404059062         68]\n",
      " [1404059068         68]\n",
      " [1404059074         69]\n",
      " [1404059080         68]\n",
      " [1404059086         68]]\n",
      "<class 'numpy.int64'> <class 'numpy.int64'>\n"
     ]
    }
   ],
   "source": [
    "#import os\n",
    "#!ls ../input\n",
    "#dataset1 = read_csv('../input/appliances-energy-prediction/KAG_energydata_complete.csv')\n",
    "datasetFull = read_csv('./data/house5/channel_5TV.dat', sep=' ', names=['Date', 'Usage'])\n",
    "#dataset = datasetFull[:10000]\n",
    "values = datasetFull.values\n",
    "print(type(dataset['Date'][0]), type(dataset['Usage'][0]))\n",
    "print(len(dataset))\n",
    "print(values[:10])\n",
    "print(type(values[0][0]), type(values[0][0]))\n",
    "#values = values[:100,:]"
   ]
  },
  {
   "cell_type": "code",
   "execution_count": 24,
   "metadata": {
    "_cell_guid": "7fb48534-727a-47fc-9b46-82cbf3d88d6a",
    "_uuid": "f8d3f9a32ba016fad6e87c12bdefe8cb1a2cf887"
   },
   "outputs": [
    {
     "name": "stdout",
     "output_type": "stream",
     "text": [
      "<class 'numpy.int64'> <class 'numpy.int64'>\n",
      "[[1404059032         69]\n",
      " [1404059038         69]\n",
      " [1404059044         69]\n",
      " [1404059050         69]\n",
      " [1404059056         69]\n",
      " [1404059062         68]\n",
      " [1404059068         68]\n",
      " [1404059074         69]\n",
      " [1404059080         68]\n",
      " [1404059086         68]]\n"
     ]
    }
   ],
   "source": [
    "values[:,0] = to_datetime(values[:,0])\n",
    "print(type(values[0][0]), type(values[0][1]))\n",
    "print(values[:10])"
   ]
  },
  {
   "cell_type": "code",
   "execution_count": 16,
   "metadata": {
    "_cell_guid": "ebe3473e-b636-404b-8460-c8b021eedaad",
    "_uuid": "936ff92e176ca4b8c449e819abce566e13b94249"
   },
   "outputs": [
    {
     "name": "stderr",
     "output_type": "stream",
     "text": [
      "/home/bhushan/anaconda3/envs/SmartOff/lib/python3.6/site-packages/sklearn/utils/validation.py:475: DataConversionWarning: Data with input dtype int64 was converted to float64 by MinMaxScaler.\n",
      "  warnings.warn(msg, DataConversionWarning)\n"
     ]
    }
   ],
   "source": [
    "# normalize features\n",
    "scaler = MinMaxScaler(feature_range=(0,1))\n",
    "scaled = scaler.fit_transform(values)"
   ]
  },
  {
   "cell_type": "code",
   "execution_count": 25,
   "metadata": {
    "_cell_guid": "6c78ecd5-4f05-4c8f-b298-f4f1ad6886c6",
    "_uuid": "c4a7d5d6020aef9873daf202d18681cc0d4d1271"
   },
   "outputs": [
    {
     "name": "stdout",
     "output_type": "stream",
     "text": [
      "reframed:  (9999, 4) reframed head:     var1(t-1)  var2(t-1)   var1(t)   var2(t)\n",
      "1   0.000000   0.496403  0.000097  0.496403\n",
      "2   0.000097   0.496403  0.000193  0.496403\n",
      "3   0.000193   0.496403  0.000290  0.496403\n",
      "4   0.000290   0.496403  0.000387  0.496403\n",
      "5   0.000387   0.496403  0.000484  0.489209\n"
     ]
    }
   ],
   "source": [
    "# frame as supervised learning\n",
    "reframed = series_to_supevised(scaled, 1, 1)\n",
    "\n",
    "# drop columns we don't want to predict\n",
    "#reframed.drop(reframed.columns[[29,30,32,33,34,35,36,37,38,39,40,41,42,43,44,45,46,47,48,49,50,51,52,53,54,55,56,57]], axis=1, inplace=True)\n",
    "print(\"reframed: \", reframed.shape, \"reframed head: \", reframed.head())\n",
    "\n",
    "# split into train and test sets\n",
    "values = reframed.values\n",
    "\n",
    "X = values[:,:1]\n",
    "Y = values[:,1]\n",
    "#Y2 = dataset[:,16]  \n",
    "\n",
    "\n",
    "# Split Data to Train and Test\n",
    "X_Train, X_Test, Y_Train, Y_Test = train_test_split(X, Y, test_size=0.3)\n",
    "\n",
    "# reshape input to be 3D [samples, timesteps, features]\n",
    "X_Train = X_Train.reshape((X_Train.shape[0], 1, X_Train.shape[1]))\n",
    "X_Test = X_Test.reshape((X_Test.shape[0], 1, X_Test.shape[1]))"
   ]
  },
  {
   "cell_type": "code",
   "execution_count": 26,
   "metadata": {
    "_cell_guid": "9bd7d4b2-d769-47bb-8622-d0b8af455dff",
    "_kg_hide-output": false,
    "_uuid": "59ce30c6af34f0216d427ffc5fa0b7131a84dfeb"
   },
   "outputs": [
    {
     "name": "stdout",
     "output_type": "stream",
     "text": [
      "Train on 6999 samples, validate on 3000 samples\n",
      "Epoch 1/50\n",
      "1s - loss: 0.0229 - val_loss: 0.0161\n",
      "Epoch 2/50\n",
      "1s - loss: 0.0151 - val_loss: 0.0130\n",
      "Epoch 3/50\n",
      "1s - loss: 0.0121 - val_loss: 0.0111\n",
      "Epoch 4/50\n",
      "1s - loss: 0.0111 - val_loss: 0.0109\n",
      "Epoch 5/50\n",
      "1s - loss: 0.0110 - val_loss: 0.0109\n",
      "Epoch 6/50\n",
      "2s - loss: 0.0110 - val_loss: 0.0109\n",
      "Epoch 7/50\n",
      "1s - loss: 0.0110 - val_loss: 0.0109\n",
      "Epoch 8/50\n",
      "1s - loss: 0.0109 - val_loss: 0.0108\n",
      "Epoch 9/50\n",
      "1s - loss: 0.0109 - val_loss: 0.0108\n",
      "Epoch 10/50\n",
      "1s - loss: 0.0109 - val_loss: 0.0108\n",
      "Epoch 11/50\n",
      "2s - loss: 0.0109 - val_loss: 0.0108\n",
      "Epoch 12/50\n",
      "2s - loss: 0.0109 - val_loss: 0.0108\n",
      "Epoch 13/50\n",
      "1s - loss: 0.0109 - val_loss: 0.0108\n",
      "Epoch 14/50\n",
      "1s - loss: 0.0108 - val_loss: 0.0107\n",
      "Epoch 15/50\n",
      "2s - loss: 0.0108 - val_loss: 0.0107\n",
      "Epoch 16/50\n",
      "2s - loss: 0.0108 - val_loss: 0.0107\n",
      "Epoch 17/50\n",
      "2s - loss: 0.0108 - val_loss: 0.0107\n",
      "Epoch 18/50\n",
      "2s - loss: 0.0107 - val_loss: 0.0106\n",
      "Epoch 19/50\n",
      "2s - loss: 0.0107 - val_loss: 0.0106\n",
      "Epoch 20/50\n",
      "1s - loss: 0.0107 - val_loss: 0.0106\n",
      "Epoch 21/50\n",
      "2s - loss: 0.0107 - val_loss: 0.0105\n",
      "Epoch 22/50\n",
      "1s - loss: 0.0106 - val_loss: 0.0105\n",
      "Epoch 23/50\n",
      "1s - loss: 0.0106 - val_loss: 0.0105\n",
      "Epoch 24/50\n",
      "2s - loss: 0.0106 - val_loss: 0.0104\n",
      "Epoch 25/50\n",
      "2s - loss: 0.0105 - val_loss: 0.0104\n",
      "Epoch 26/50\n",
      "2s - loss: 0.0105 - val_loss: 0.0104\n",
      "Epoch 27/50\n",
      "1s - loss: 0.0104 - val_loss: 0.0103\n",
      "Epoch 28/50\n",
      "2s - loss: 0.0103 - val_loss: 0.0101\n",
      "Epoch 29/50\n",
      "1s - loss: 0.0102 - val_loss: 0.0100\n",
      "Epoch 30/50\n",
      "1s - loss: 0.0100 - val_loss: 0.0099\n",
      "Epoch 31/50\n",
      "2s - loss: 0.0099 - val_loss: 0.0097\n",
      "Epoch 32/50\n",
      "2s - loss: 0.0097 - val_loss: 0.0095\n",
      "Epoch 33/50\n",
      "1s - loss: 0.0095 - val_loss: 0.0094\n",
      "Epoch 34/50\n",
      "2s - loss: 0.0093 - val_loss: 0.0091\n",
      "Epoch 35/50\n",
      "1s - loss: 0.0091 - val_loss: 0.0089\n",
      "Epoch 36/50\n",
      "2s - loss: 0.0088 - val_loss: 0.0086\n",
      "Epoch 37/50\n",
      "2s - loss: 0.0085 - val_loss: 0.0082\n",
      "Epoch 38/50\n",
      "2s - loss: 0.0081 - val_loss: 0.0077\n",
      "Epoch 39/50\n",
      "1s - loss: 0.0076 - val_loss: 0.0073\n",
      "Epoch 40/50\n",
      "1s - loss: 0.0072 - val_loss: 0.0068\n",
      "Epoch 41/50\n",
      "1s - loss: 0.0068 - val_loss: 0.0064\n",
      "Epoch 42/50\n",
      "2s - loss: 0.0064 - val_loss: 0.0061\n",
      "Epoch 43/50\n",
      "2s - loss: 0.0061 - val_loss: 0.0058\n",
      "Epoch 44/50\n",
      "1s - loss: 0.0058 - val_loss: 0.0056\n",
      "Epoch 45/50\n",
      "1s - loss: 0.0056 - val_loss: 0.0055\n",
      "Epoch 46/50\n",
      "1s - loss: 0.0055 - val_loss: 0.0054\n",
      "Epoch 47/50\n",
      "1s - loss: 0.0054 - val_loss: 0.0053\n",
      "Epoch 48/50\n",
      "2s - loss: 0.0053 - val_loss: 0.0053\n",
      "Epoch 49/50\n",
      "1s - loss: 0.0053 - val_loss: 0.0052\n",
      "Epoch 50/50\n",
      "1s - loss: 0.0052 - val_loss: 0.0052\n"
     ]
    }
   ],
   "source": [
    "# network architecture\n",
    "model = Sequential()\n",
    "model.add(LSTM(50, input_shape=(X_Train.shape[1], X_Train.shape[2])))\n",
    "model.add(Dense(1))\n",
    "model.compile(loss='mse', optimizer='adam')\n",
    "\n",
    "# fit\n",
    "history = model.fit(X_Train, Y_Train, epochs=50, batch_size=10, validation_data=(X_Test, Y_Test), verbose=2, shuffle=False)"
   ]
  },
  {
   "cell_type": "code",
   "execution_count": 19,
   "metadata": {
    "_cell_guid": "d14552c1-a326-4b3a-b471-0e9489e43d14",
    "_uuid": "90ae05f5fabd91c649e567f9d01c9ec453737a35"
   },
   "outputs": [
    {
     "data": {
      "image/png": "[encoded data removed]",
      "text/plain": [
       "<matplotlib.figure.Figure at 0x7f8027ba7ba8>"
      ]
     },
     "metadata": {},
     "output_type": "display_data"
    }
   ],
   "source": [
    "# plot history\n",
    "\n",
    "pyplot.plot(history.history['loss'], label='Train')\n",
    "pyplot.plot(history.history['val_loss'], label='Test')\n",
    "pyplot.legend()\n",
    "pyplot.show()"
   ]
  },
  {
   "cell_type": "code",
   "execution_count": 27,
   "metadata": {
    "_uuid": "8da7c5a7d39219a9778f271733fbae2a51f3232e"
   },
   "outputs": [
    {
     "data": {
      "image/png": "[encoded data removed]",
      "text/plain": [
       "<matplotlib.figure.Figure at 0x7f8026e794e0>"
      ]
     },
     "metadata": {},
     "output_type": "display_data"
    }
   ],
   "source": [
    "pyplot.plot(history.history['loss'], label='Train')\n",
    "pyplot.plot(history.history['val_loss'], label='Test')\n",
    "pyplot.legend()\n",
    "pyplot.show()"
   ]
  },
  {
   "cell_type": "code",
   "execution_count": 28,
   "metadata": {},
   "outputs": [
    {
     "name": "stdout",
     "output_type": "stream",
     "text": [
      "<keras.callbacks.History object at 0x7f8026b44be0>\n"
     ]
    }
   ],
   "source": [
    "print(history)"
   ]
  },
  {
   "cell_type": "code",
   "execution_count": 69,
   "metadata": {},
   "outputs": [
    {
     "name": "stdout",
     "output_type": "stream",
     "text": [
      "(3000, 1)\n",
      "(3000, 1) (3000, 1)\n"
     ]
    }
   ],
   "source": [
    "prediction = model.predict(X_Test)\n",
    "Y_Test = Y_Test.reshape(3000,-1)\n",
    "print(prediction.shape)\n",
    "print(Y_Test1.shape, Y_Test.shape)"
   ]
  },
  {
   "cell_type": "code",
   "execution_count": 73,
   "metadata": {},
   "outputs": [],
   "source": [
    "Diff = Y_Test - prediction"
   ]
  },
  {
   "cell_type": "code",
   "execution_count": 71,
   "metadata": {},
   "outputs": [
    {
     "data": {
      "image/png": "[encoded data removed]",
      "text/plain": [
       "<matplotlib.figure.Figure at 0x7f8005350080>"
      ]
     },
     "metadata": {},
     "output_type": "display_data"
    }
   ],
   "source": [
    "pyplot.plot(Y_Test, label='Actual')\n",
    "pyplot.plot(prediction, label='Predicted')\n",
    "pyplot.legend()\n",
    "pyplot.show()"
   ]
  },
  {
   "cell_type": "code",
   "execution_count": 72,
   "metadata": {},
   "outputs": [
    {
     "data": {
      "image/png": "[encoded data removed]",
      "text/plain": [
       "<matplotlib.figure.Figure at 0x7f80052bda58>"
      ]
     },
     "metadata": {},
     "output_type": "display_data"
    }
   ],
   "source": [
    "pyplot.plot(Diff, label='Diff')\n",
    "pyplot.legend()\n",
    "pyplot.show()"
   ]
  },
  {
   "cell_type": "code",
   "execution_count": null,
   "metadata": {},
   "outputs": [],
   "source": []
  }
 ],
 "metadata": {
  "kernelspec": {
   "display_name": "Python [default]",
   "language": "python",
   "name": "python3"
  },
  "language_info": {
   "codemirror_mode": {
    "name": "ipython",
    "version": 3
   },
   "file_extension": ".py",
   "mimetype": "text/x-python",
   "name": "python",
   "nbconvert_exporter": "python",
   "pygments_lexer": "ipython3",
   "version": "3.6.3"
  }
 },
 "nbformat": 4,
 "nbformat_minor": 1
}
